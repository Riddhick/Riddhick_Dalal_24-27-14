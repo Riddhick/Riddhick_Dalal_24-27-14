{
 "cells": [
  {
   "cell_type": "markdown",
   "metadata": {},
   "source": [
    "### Name : Riddhick Dalal\n",
    "### Reg No : 24-27-14\n",
    "### Course : MTech Data Science\n",
    "### Assignment 2"
   ]
  },
  {
   "cell_type": "code",
   "execution_count": 24,
   "metadata": {},
   "outputs": [],
   "source": [
    "import numpy as np"
   ]
  },
  {
   "cell_type": "markdown",
   "metadata": {},
   "source": [
    "### Question 1:"
   ]
  },
  {
   "cell_type": "code",
   "execution_count": 25,
   "metadata": {},
   "outputs": [
    {
     "name": "stdout",
     "output_type": "stream",
     "text": [
      "[ 0  1  2  3  4  5  6  7  8  9 10 11 12 13 14 15 16 17 18 19 20 21 22 23\n",
      " 24 25 26 27 28 29 30]\n",
      "Shape :(31,)\n"
     ]
    }
   ],
   "source": [
    "var1=np.arange(0,30+1,1)\n",
    "print(var1)\n",
    "print(\"Shape :\"+str(var1.shape))"
   ]
  },
  {
   "cell_type": "code",
   "execution_count": 26,
   "metadata": {},
   "outputs": [
    {
     "data": {
      "text/plain": [
       "array([[ 0,  1,  2,  3,  4,  5,  6,  7,  8,  9],\n",
       "       [10, 11, 12, 13, 14, 15, 16, 17, 18, 19],\n",
       "       [20, 21, 22, 23, 24, 25, 26, 27, 28, 29]])"
      ]
     },
     "execution_count": 26,
     "metadata": {},
     "output_type": "execute_result"
    }
   ],
   "source": [
    "var2=var1[:-1].reshape(3,10)\n",
    "var2"
   ]
  },
  {
   "cell_type": "code",
   "execution_count": 27,
   "metadata": {},
   "outputs": [
    {
     "data": {
      "text/plain": [
       "array([[[ 0,  1],\n",
       "        [ 2,  3],\n",
       "        [ 4,  5],\n",
       "        [ 6,  7],\n",
       "        [ 8,  9]],\n",
       "\n",
       "       [[10, 11],\n",
       "        [12, 13],\n",
       "        [14, 15],\n",
       "        [16, 17],\n",
       "        [18, 19]],\n",
       "\n",
       "       [[20, 21],\n",
       "        [22, 23],\n",
       "        [24, 25],\n",
       "        [26, 27],\n",
       "        [28, 29]]])"
      ]
     },
     "execution_count": 27,
     "metadata": {},
     "output_type": "execute_result"
    }
   ],
   "source": [
    "var3=var1[:-1].reshape(3,5,2)\n",
    "var3"
   ]
  },
  {
   "cell_type": "code",
   "execution_count": 28,
   "metadata": {},
   "outputs": [
    {
     "data": {
      "text/plain": [
       "array([[ 0,  1,  2,  3,  4,  5,  6,  7,  8,  9],\n",
       "       [-1, 11, 12, 13, 14, 15, 16, 17, 18, 19],\n",
       "       [20, 21, 22, 23, 24, 25, 26, 27, 28, 29]])"
      ]
     },
     "execution_count": 28,
     "metadata": {},
     "output_type": "execute_result"
    }
   ],
   "source": [
    "var2[1,0]=-1\n",
    "var2"
   ]
  },
  {
   "cell_type": "code",
   "execution_count": 29,
   "metadata": {},
   "outputs": [
    {
     "name": "stdout",
     "output_type": "stream",
     "text": [
      "[ 0  1  2  3  4  5  6  7  8  9 -1 11 12 13 14 15 16 17 18 19 20 21 22 23\n",
      " 24 25 26 27 28 29 30]\n",
      "[[[ 0  1]\n",
      "  [ 2  3]\n",
      "  [ 4  5]\n",
      "  [ 6  7]\n",
      "  [ 8  9]]\n",
      "\n",
      " [[-1 11]\n",
      "  [12 13]\n",
      "  [14 15]\n",
      "  [16 17]\n",
      "  [18 19]]\n",
      "\n",
      " [[20 21]\n",
      "  [22 23]\n",
      "  [24 25]\n",
      "  [26 27]\n",
      "  [28 29]]]\n"
     ]
    }
   ],
   "source": [
    "print(var1)\n",
    "print(var3)"
   ]
  },
  {
   "cell_type": "code",
   "execution_count": 30,
   "metadata": {},
   "outputs": [
    {
     "name": "stdout",
     "output_type": "stream",
     "text": [
      "[[ 20  25]\n",
      " [ 59  75]\n",
      " [120 125]]\n"
     ]
    }
   ],
   "source": [
    "sum_over_second=np.sum(var3,axis=1)\n",
    "print(sum_over_second)"
   ]
  },
  {
   "cell_type": "code",
   "execution_count": 31,
   "metadata": {},
   "outputs": [
    {
     "name": "stdout",
     "output_type": "stream",
     "text": [
      "[[ 1  5  9 13 17]\n",
      " [10 25 29 33 37]\n",
      " [41 45 49 53 57]]\n"
     ]
    }
   ],
   "source": [
    "sum_over_third=np.sum(var3,axis=2)\n",
    "print(sum_over_third)"
   ]
  },
  {
   "cell_type": "code",
   "execution_count": 32,
   "metadata": {},
   "outputs": [
    {
     "name": "stdout",
     "output_type": "stream",
     "text": [
      "[ 52  75  87  99 111]\n"
     ]
    }
   ],
   "source": [
    "sum_over_first_second=np.sum(var3,axis=(0,2))\n",
    "print(sum_over_first_second)"
   ]
  },
  {
   "cell_type": "code",
   "execution_count": 33,
   "metadata": {},
   "outputs": [
    {
     "name": "stdout",
     "output_type": "stream",
     "text": [
      "[[-1 11 12 13 14 15 16 17 18 19]]\n",
      "[ 9 19 29]\n",
      "[[ 8  9]\n",
      " [18 19]]\n"
     ]
    }
   ],
   "source": [
    "print(var2[1:2])\n",
    "print(var2[0:,-1])\n",
    "print(var2[:2,-2:])"
   ]
  },
  {
   "cell_type": "markdown",
   "metadata": {},
   "source": [
    "#### Question 2 :\n"
   ]
  },
  {
   "cell_type": "code",
   "execution_count": 34,
   "metadata": {},
   "outputs": [
    {
     "name": "stdout",
     "output_type": "stream",
     "text": [
      "[ 1  2  3  4  5  6  7  8  9 10]\n"
     ]
    }
   ],
   "source": [
    "arr=np.arange(0,10,1)\n",
    "arr_broadcasted=arr+1\n",
    "print(arr_broadcasted)"
   ]
  },
  {
   "cell_type": "code",
   "execution_count": 35,
   "metadata": {},
   "outputs": [
    {
     "name": "stdout",
     "output_type": "stream",
     "text": [
      "[[ 0  1  2  3  4  5  6  7  8  9]\n",
      " [ 1  2  3  4  5  6  7  8  9 10]\n",
      " [ 2  3  4  5  6  7  8  9 10 11]\n",
      " [ 3  4  5  6  7  8  9 10 11 12]\n",
      " [ 4  5  6  7  8  9 10 11 12 13]\n",
      " [ 5  6  7  8  9 10 11 12 13 14]\n",
      " [ 6  7  8  9 10 11 12 13 14 15]\n",
      " [ 7  8  9 10 11 12 13 14 15 16]\n",
      " [ 8  9 10 11 12 13 14 15 16 17]\n",
      " [ 9 10 11 12 13 14 15 16 17 18]]\n"
     ]
    }
   ],
   "source": [
    "A=arr+arr.reshape(10,1)\n",
    "print(A)"
   ]
  },
  {
   "cell_type": "code",
   "execution_count": 36,
   "metadata": {},
   "outputs": [],
   "source": [
    "data=np.exp(np.random.randn(50,5))\n"
   ]
  },
  {
   "cell_type": "code",
   "execution_count": 37,
   "metadata": {},
   "outputs": [
    {
     "name": "stdout",
     "output_type": "stream",
     "text": [
      "[[ 0.61019846  3.23139237  0.58090901  1.56423054  0.29927975]\n",
      " [ 0.49811301  1.43213469  0.97653187  1.71318824  3.86935499]\n",
      " [ 0.87231358  1.1875858   0.55603407  0.53337848  0.62761463]\n",
      " [ 5.81223699  2.33986633  2.34615653  0.29267243  0.64998555]\n",
      " [ 1.53645126  1.80185833  0.11420313  4.10572037  4.02376905]\n",
      " [ 2.48990951  0.95632848  1.39867059  1.88524905  0.80486517]\n",
      " [ 2.1992206   0.51388829  2.3009016   1.03971262  1.04711513]\n",
      " [ 0.27447619  2.37579179  1.15611915  2.68185641  1.7485073 ]\n",
      " [ 1.10841375  0.16509742  4.90719846  2.19178971  1.06548668]\n",
      " [ 0.86697955  0.64946806  2.35862373  0.70987438  0.35507968]\n",
      " [ 4.54207079  0.81404783  0.45406998  0.87451759  0.61730598]\n",
      " [ 0.58614604  0.85559284  1.06224587  4.41333267  0.64270765]\n",
      " [ 0.38848404  0.68609457  0.59476708  0.7955648   1.5463431 ]\n",
      " [ 0.5607942   1.70476583  0.44005426  1.48268684  0.96173304]\n",
      " [ 0.45443679  0.84116659  0.45764365  1.57996362  0.89154922]\n",
      " [ 1.70193072  3.83951545  5.2380453   0.73797132  0.33175624]\n",
      " [ 0.89100896  0.86315662  0.07810427  0.62178997  0.8116496 ]\n",
      " [ 1.23399066  1.76200001  0.92399064  0.8477645   3.31248735]\n",
      " [ 2.41804757  0.67940573  0.60515137  1.98131104  0.62239906]\n",
      " [ 1.18353936  0.04269809  1.1668021   0.17124177  1.13499643]\n",
      " [ 0.25130764  0.61652207  0.8085947   2.82289171  1.5555545 ]\n",
      " [ 2.51448066  0.49318531  0.41285391  0.21632264  0.31928028]\n",
      " [ 0.27262134  0.8536769   5.11219411  9.21928593  0.79159423]\n",
      " [ 0.24366844  0.8592613   0.88071996  1.14192728  0.26702627]\n",
      " [ 1.99953087  5.11257867  0.25178569  5.75823596  3.54967507]\n",
      " [ 6.79532469  1.27228251  0.43347442  0.56776728  0.7291283 ]\n",
      " [ 3.91107445  0.2554038   1.10010383  0.98837383  1.38817612]\n",
      " [ 0.27962835  2.13301345  6.57063833  0.09467452  0.13742335]\n",
      " [ 2.15952895  6.25851694  0.53645739  0.49508172  0.09044435]\n",
      " [ 0.2968269   1.63926685  1.08706643  0.91841167  0.87768862]\n",
      " [ 0.08461032  0.78711438  0.88138975  0.28241947  0.63753006]\n",
      " [ 1.17153704  6.64440105  2.52071032  4.5732936   1.29584642]\n",
      " [ 0.50443247  0.59946724  0.79149985  0.94350614  0.43701912]\n",
      " [ 0.70095249  0.75812467  0.56451604  1.13368401  1.04518316]\n",
      " [ 0.30303626  0.15859073  0.25664431  3.34228299  1.11994741]\n",
      " [ 1.68262738  0.29088057  0.38759726  0.1179383   0.22139343]\n",
      " [ 1.38107324  0.69863042  2.29511079  1.04421684  1.02168352]\n",
      " [ 0.62224921  0.37416128  0.72763789  1.20767672  0.23364209]\n",
      " [ 2.05717502  0.18493903  1.61654814  1.44773521  1.37463166]\n",
      " [ 0.30872085  0.35806694  0.48227466  0.24483647  2.47014499]\n",
      " [ 3.02145745  0.96309259  0.31507916  0.45909894 10.47175632]\n",
      " [ 3.48318069  1.79444321  1.00411656  6.35232169  0.28196045]\n",
      " [ 0.71057172  0.6279442   2.20673769  1.17173684  0.90825305]\n",
      " [ 2.56742562  0.09731154  0.27741179  0.46672992  2.84258907]\n",
      " [ 0.15034548  2.66389377  0.94697287  0.92346393  0.44680437]\n",
      " [ 0.14438708  0.56244116  0.49156533  0.15571822  4.35167635]\n",
      " [ 1.06317893  0.27281814  0.21813389  0.23020138  5.53342185]\n",
      " [ 1.32285274  0.46864347  7.50251719  0.67391326  1.97052311]\n",
      " [ 2.12445028  0.91051652  0.94094677  0.33251683  0.26504516]\n",
      " [ 0.302729    1.05939213  1.01594278  3.04332335  0.55336692]]\n"
     ]
    }
   ],
   "source": [
    "print(data)"
   ]
  },
  {
   "cell_type": "code",
   "execution_count": 38,
   "metadata": {},
   "outputs": [],
   "source": [
    "means=np.mean(data,axis=0)\n",
    "sd=np.std(data,axis=0)"
   ]
  },
  {
   "cell_type": "code",
   "execution_count": 39,
   "metadata": {},
   "outputs": [
    {
     "name": "stdout",
     "output_type": "stream",
     "text": [
      "Mean= [1.45319495 1.33020872 1.40706929 1.61186806 1.4510479 ]\n",
      "Standard Diviation= [1.43883113 1.43588783 1.64128835 1.80472582 1.77015123]\n"
     ]
    }
   ],
   "source": [
    "print('Mean= '+str(means))\n",
    "print('Standard Diviation= '+str(sd))"
   ]
  },
  {
   "cell_type": "code",
   "execution_count": 40,
   "metadata": {},
   "outputs": [],
   "source": [
    "std_data=(data-means)/sd"
   ]
  },
  {
   "cell_type": "code",
   "execution_count": 41,
   "metadata": {},
   "outputs": [
    {
     "name": "stdout",
     "output_type": "stream",
     "text": [
      "[ 2.04281037e-16 -5.24580379e-16 -8.77076189e-17  3.10862447e-17\n",
      " -7.99360578e-17]\n",
      "[1. 1. 1. 1. 1.]\n"
     ]
    }
   ],
   "source": [
    "new_means=np.mean(std_data,axis=0)\n",
    "new_sd=np.std(std_data,axis=0)\n",
    "print(new_means)\n",
    "print(new_sd)"
   ]
  },
  {
   "cell_type": "markdown",
   "metadata": {},
   "source": [
    "### Question 3 :"
   ]
  },
  {
   "cell_type": "code",
   "execution_count": 42,
   "metadata": {},
   "outputs": [
    {
     "name": "stdout",
     "output_type": "stream",
     "text": [
      "[[          1           1           1           1           1           1\n",
      "            1           1           1           1           1           1]\n",
      " [          1           2           4           8          16          32\n",
      "           64         128         256         512        1024        2048]\n",
      " [          1           3           9          27          81         243\n",
      "          729        2187        6561       19683       59049      177147]\n",
      " [          1           4          16          64         256        1024\n",
      "         4096       16384       65536      262144     1048576     4194304]\n",
      " [          1           5          25         125         625        3125\n",
      "        15625       78125      390625     1953125     9765625    48828125]\n",
      " [          1           6          36         216        1296        7776\n",
      "        46656      279936     1679616    10077696    60466176   362797056]\n",
      " [          1           7          49         343        2401       16807\n",
      "       117649      823543     5764801    40353607   282475249  1977326743]\n",
      " [          1           8          64         512        4096       32768\n",
      "       262144     2097152    16777216   134217728  1073741824           0]\n",
      " [          1           9          81         729        6561       59049\n",
      "       531441     4782969    43046721   387420489  -808182895  1316288537]\n",
      " [          1          10         100        1000       10000      100000\n",
      "      1000000    10000000   100000000  1000000000  1410065408  1215752192]\n",
      " [          1          11         121        1331       14641      161051\n",
      "      1771561    19487171   214358881 -1937019605   167620825  1843829075]\n",
      " [          1          12         144        1728       20736      248832\n",
      "      2985984    35831808   429981696   864813056  1787822080   -20971520]]\n"
     ]
    }
   ],
   "source": [
    "def vandermonde(N):\n",
    "    vec=np.arange(N)+1\n",
    "    vander=vec.reshape(N,1)\n",
    "    vander=vander**np.arange(N)\n",
    "    return vander\n",
    "vander=vandermonde(12)\n",
    "print(vander)"
   ]
  },
  {
   "cell_type": "code",
   "execution_count": 43,
   "metadata": {},
   "outputs": [
    {
     "data": {
      "text/plain": [
       "array([1., 1., 1., 1., 1., 1., 1., 1., 1., 1., 1., 1.])"
      ]
     },
     "execution_count": 43,
     "metadata": {},
     "output_type": "execute_result"
    }
   ],
   "source": [
    "x=np.ones(12)\n",
    "x"
   ]
  },
  {
   "cell_type": "code",
   "execution_count": 44,
   "metadata": {},
   "outputs": [
    {
     "data": {
      "text/plain": [
       "array([1.20000000e+01, 4.09500000e+03, 2.65720000e+05, 5.59240500e+06,\n",
       "       6.10351560e+07, 4.35356467e+08, 2.30688120e+09, 1.22713351e+09,\n",
       "       9.43953692e+08, 3.73692871e+09, 3.10225064e+08, 3.10073456e+09])"
      ]
     },
     "execution_count": 44,
     "metadata": {},
     "output_type": "execute_result"
    }
   ],
   "source": [
    "b=np.dot(vander,x)\n",
    "b"
   ]
  },
  {
   "cell_type": "code",
   "execution_count": 45,
   "metadata": {},
   "outputs": [
    {
     "name": "stdout",
     "output_type": "stream",
     "text": [
      "[0.99559784 1.00491714 0.99946976 1.00000954 1.         0.99999917\n",
      " 1.00000018 0.99999999 1.         1.         1.         1.        ]\n"
     ]
    }
   ],
   "source": [
    "inv_v=np.linalg.inv(vander)\n",
    "res=np.dot(inv_v,b)\n",
    "print(res)"
   ]
  },
  {
   "cell_type": "markdown",
   "metadata": {},
   "source": [
    "#### The expected result was a vector having 12 ones, but in actual result some of the values are not exactly 1."
   ]
  },
  {
   "cell_type": "code",
   "execution_count": 46,
   "metadata": {},
   "outputs": [
    {
     "name": "stdout",
     "output_type": "stream",
     "text": [
      "[1.0000114  0.99997033 1.00002961 0.99998507 1.00000423 0.9999993\n",
      " 1.00000007 1.         1.         1.         1.         1.        ]\n"
     ]
    }
   ],
   "source": [
    "res2=np.linalg.solve(vander,b)\n",
    "print(res2)\n"
   ]
  },
  {
   "cell_type": "markdown",
   "metadata": {},
   "source": [
    "#### The result is more closer to the actual result."
   ]
  },
  {
   "cell_type": "markdown",
   "metadata": {},
   "source": [
    "### Github Link : <a href=\"https://github.com/Riddhick/Riddhick_Dalal_24-27-14\">Github</a>\n",
    "\n",
    "#### [https://github.com/Riddhick/Riddhick_Dalal_24-27-14]"
   ]
  }
 ],
 "metadata": {
  "kernelspec": {
   "display_name": "Python 3",
   "language": "python",
   "name": "python3"
  },
  "language_info": {
   "codemirror_mode": {
    "name": "ipython",
    "version": 3
   },
   "file_extension": ".py",
   "mimetype": "text/x-python",
   "name": "python",
   "nbconvert_exporter": "python",
   "pygments_lexer": "ipython3",
   "version": "3.9.5"
  }
 },
 "nbformat": 4,
 "nbformat_minor": 2
}
