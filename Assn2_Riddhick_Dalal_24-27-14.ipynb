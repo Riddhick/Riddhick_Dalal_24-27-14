{
 "cells": [
  {
   "cell_type": "markdown",
   "metadata": {},
   "source": [
    "### Name : Riddhick Dalal\n",
    "### Reg No : 24-27-14\n",
    "### Course : MTech Data Science\n",
    "### Assignment 2"
   ]
  },
  {
   "cell_type": "code",
   "execution_count": 1,
   "metadata": {},
   "outputs": [],
   "source": [
    "import numpy as np"
   ]
  },
  {
   "cell_type": "markdown",
   "metadata": {},
   "source": [
    "### Question 1:"
   ]
  },
  {
   "cell_type": "code",
   "execution_count": 2,
   "metadata": {},
   "outputs": [
    {
     "name": "stdout",
     "output_type": "stream",
     "text": [
      "[ 0  1  2  3  4  5  6  7  8  9 10 11 12 13 14 15 16 17 18 19 20 21 22 23\n",
      " 24 25 26 27 28 29 30]\n",
      "Shape :(31,)\n"
     ]
    }
   ],
   "source": [
    "var1=np.arange(0,30+1,1)\n",
    "print(var1)\n",
    "print(\"Shape :\"+str(var1.shape))"
   ]
  },
  {
   "cell_type": "code",
   "execution_count": 3,
   "metadata": {},
   "outputs": [
    {
     "data": {
      "text/plain": [
       "array([[ 0,  1,  2,  3,  4,  5,  6,  7,  8,  9],\n",
       "       [10, 11, 12, 13, 14, 15, 16, 17, 18, 19],\n",
       "       [20, 21, 22, 23, 24, 25, 26, 27, 28, 29]])"
      ]
     },
     "execution_count": 3,
     "metadata": {},
     "output_type": "execute_result"
    }
   ],
   "source": [
    "var2=var1[:-1].reshape(3,10)\n",
    "var2"
   ]
  },
  {
   "cell_type": "code",
   "execution_count": 4,
   "metadata": {},
   "outputs": [
    {
     "data": {
      "text/plain": [
       "array([[[ 0,  1],\n",
       "        [ 2,  3],\n",
       "        [ 4,  5],\n",
       "        [ 6,  7],\n",
       "        [ 8,  9]],\n",
       "\n",
       "       [[10, 11],\n",
       "        [12, 13],\n",
       "        [14, 15],\n",
       "        [16, 17],\n",
       "        [18, 19]],\n",
       "\n",
       "       [[20, 21],\n",
       "        [22, 23],\n",
       "        [24, 25],\n",
       "        [26, 27],\n",
       "        [28, 29]]])"
      ]
     },
     "execution_count": 4,
     "metadata": {},
     "output_type": "execute_result"
    }
   ],
   "source": [
    "var3=var1[:-1].reshape(3,5,2)\n",
    "var3"
   ]
  },
  {
   "cell_type": "code",
   "execution_count": 5,
   "metadata": {},
   "outputs": [
    {
     "data": {
      "text/plain": [
       "array([[ 0,  1,  2,  3,  4,  5,  6,  7,  8,  9],\n",
       "       [-1, 11, 12, 13, 14, 15, 16, 17, 18, 19],\n",
       "       [20, 21, 22, 23, 24, 25, 26, 27, 28, 29]])"
      ]
     },
     "execution_count": 5,
     "metadata": {},
     "output_type": "execute_result"
    }
   ],
   "source": [
    "var2[1,0]=-1\n",
    "var2"
   ]
  },
  {
   "cell_type": "code",
   "execution_count": 6,
   "metadata": {},
   "outputs": [
    {
     "name": "stdout",
     "output_type": "stream",
     "text": [
      "[ 0  1  2  3  4  5  6  7  8  9 -1 11 12 13 14 15 16 17 18 19 20 21 22 23\n",
      " 24 25 26 27 28 29 30]\n",
      "[[[ 0  1]\n",
      "  [ 2  3]\n",
      "  [ 4  5]\n",
      "  [ 6  7]\n",
      "  [ 8  9]]\n",
      "\n",
      " [[-1 11]\n",
      "  [12 13]\n",
      "  [14 15]\n",
      "  [16 17]\n",
      "  [18 19]]\n",
      "\n",
      " [[20 21]\n",
      "  [22 23]\n",
      "  [24 25]\n",
      "  [26 27]\n",
      "  [28 29]]]\n"
     ]
    }
   ],
   "source": [
    "print(var1)\n",
    "print(var3)"
   ]
  },
  {
   "cell_type": "code",
   "execution_count": 7,
   "metadata": {},
   "outputs": [
    {
     "name": "stdout",
     "output_type": "stream",
     "text": [
      "[[ 20  25]\n",
      " [ 59  75]\n",
      " [120 125]]\n"
     ]
    }
   ],
   "source": [
    "sum_over_second=np.sum(var3,axis=1)\n",
    "print(sum_over_second)"
   ]
  },
  {
   "cell_type": "code",
   "execution_count": 8,
   "metadata": {},
   "outputs": [
    {
     "name": "stdout",
     "output_type": "stream",
     "text": [
      "[[ 1  5  9 13 17]\n",
      " [10 25 29 33 37]\n",
      " [41 45 49 53 57]]\n"
     ]
    }
   ],
   "source": [
    "sum_over_third=np.sum(var3,axis=2)\n",
    "print(sum_over_third)"
   ]
  },
  {
   "cell_type": "code",
   "execution_count": 9,
   "metadata": {},
   "outputs": [
    {
     "name": "stdout",
     "output_type": "stream",
     "text": [
      "[ 52  75  87  99 111]\n"
     ]
    }
   ],
   "source": [
    "sum_over_first_second=np.sum(var3,axis=(0,2))\n",
    "print(sum_over_first_second)"
   ]
  },
  {
   "cell_type": "code",
   "execution_count": 10,
   "metadata": {},
   "outputs": [
    {
     "name": "stdout",
     "output_type": "stream",
     "text": [
      "[[-1 11 12 13 14 15 16 17 18 19]]\n",
      "[ 9 19 29]\n",
      "[[ 8  9]\n",
      " [18 19]]\n"
     ]
    }
   ],
   "source": [
    "print(var2[1:2])\n",
    "print(var2[0:,-1])\n",
    "print(var2[:2,-2:])"
   ]
  },
  {
   "cell_type": "markdown",
   "metadata": {},
   "source": [
    "#### Question 2 :\n"
   ]
  },
  {
   "cell_type": "code",
   "execution_count": 11,
   "metadata": {},
   "outputs": [
    {
     "name": "stdout",
     "output_type": "stream",
     "text": [
      "[ 1  2  3  4  5  6  7  8  9 10]\n"
     ]
    }
   ],
   "source": [
    "arr=np.arange(0,10,1)\n",
    "arr_broadcasted=arr+1\n",
    "print(arr_broadcasted)"
   ]
  },
  {
   "cell_type": "code",
   "execution_count": 12,
   "metadata": {},
   "outputs": [
    {
     "name": "stdout",
     "output_type": "stream",
     "text": [
      "[[ 0  1  2  3  4  5  6  7  8  9]\n",
      " [ 1  2  3  4  5  6  7  8  9 10]\n",
      " [ 2  3  4  5  6  7  8  9 10 11]\n",
      " [ 3  4  5  6  7  8  9 10 11 12]\n",
      " [ 4  5  6  7  8  9 10 11 12 13]\n",
      " [ 5  6  7  8  9 10 11 12 13 14]\n",
      " [ 6  7  8  9 10 11 12 13 14 15]\n",
      " [ 7  8  9 10 11 12 13 14 15 16]\n",
      " [ 8  9 10 11 12 13 14 15 16 17]\n",
      " [ 9 10 11 12 13 14 15 16 17 18]]\n"
     ]
    }
   ],
   "source": [
    "A=arr+arr.reshape(10,1)\n",
    "print(A)"
   ]
  },
  {
   "cell_type": "code",
   "execution_count": 13,
   "metadata": {},
   "outputs": [],
   "source": [
    "data=np.exp(np.random.randn(2,5))\n"
   ]
  },
  {
   "cell_type": "code",
   "execution_count": 14,
   "metadata": {},
   "outputs": [
    {
     "name": "stdout",
     "output_type": "stream",
     "text": [
      "[[1.46302419 2.5870391  8.8505052  4.70811873 0.72261522]\n",
      " [0.94640007 1.26836814 1.11497842 7.37409162 0.24736618]]\n"
     ]
    }
   ],
   "source": [
    "print(data)"
   ]
  },
  {
   "cell_type": "code",
   "execution_count": 15,
   "metadata": {},
   "outputs": [],
   "source": [
    "means=np.mean(data,axis=0)\n",
    "sd=np.std(data,axis=0)"
   ]
  },
  {
   "cell_type": "code",
   "execution_count": 16,
   "metadata": {},
   "outputs": [
    {
     "name": "stdout",
     "output_type": "stream",
     "text": [
      "Mean= [1.20471213 1.92770362 4.98274181 6.04110518 0.4849907 ]\n",
      "Standard Diviation= [0.25831206 0.65933548 3.86776339 1.33298645 0.23762452]\n"
     ]
    }
   ],
   "source": [
    "print('Mean= '+str(means))\n",
    "print('Standard Diviation= '+str(sd))"
   ]
  },
  {
   "cell_type": "code",
   "execution_count": 17,
   "metadata": {},
   "outputs": [],
   "source": [
    "std_data=(data-means)/sd"
   ]
  },
  {
   "cell_type": "code",
   "execution_count": 18,
   "metadata": {},
   "outputs": [
    {
     "name": "stdout",
     "output_type": "stream",
     "text": [
      "[-4.44089210e-16  0.00000000e+00 -1.66533454e-16 -3.88578059e-16\n",
      "  1.11022302e-16]\n",
      "[1. 1. 1. 1. 1.]\n"
     ]
    }
   ],
   "source": [
    "new_means=np.mean(std_data,axis=0)\n",
    "new_sd=np.std(std_data,axis=0)\n",
    "print(new_means)\n",
    "print(new_sd)"
   ]
  },
  {
   "cell_type": "markdown",
   "metadata": {},
   "source": [
    "### Question 3 :"
   ]
  },
  {
   "cell_type": "code",
   "execution_count": 19,
   "metadata": {},
   "outputs": [
    {
     "name": "stdout",
     "output_type": "stream",
     "text": [
      "[[          1           1           1           1           1           1\n",
      "            1           1           1           1           1           1]\n",
      " [          1           2           4           8          16          32\n",
      "           64         128         256         512        1024        2048]\n",
      " [          1           3           9          27          81         243\n",
      "          729        2187        6561       19683       59049      177147]\n",
      " [          1           4          16          64         256        1024\n",
      "         4096       16384       65536      262144     1048576     4194304]\n",
      " [          1           5          25         125         625        3125\n",
      "        15625       78125      390625     1953125     9765625    48828125]\n",
      " [          1           6          36         216        1296        7776\n",
      "        46656      279936     1679616    10077696    60466176   362797056]\n",
      " [          1           7          49         343        2401       16807\n",
      "       117649      823543     5764801    40353607   282475249  1977326743]\n",
      " [          1           8          64         512        4096       32768\n",
      "       262144     2097152    16777216   134217728  1073741824           0]\n",
      " [          1           9          81         729        6561       59049\n",
      "       531441     4782969    43046721   387420489  -808182895  1316288537]\n",
      " [          1          10         100        1000       10000      100000\n",
      "      1000000    10000000   100000000  1000000000  1410065408  1215752192]\n",
      " [          1          11         121        1331       14641      161051\n",
      "      1771561    19487171   214358881 -1937019605   167620825  1843829075]\n",
      " [          1          12         144        1728       20736      248832\n",
      "      2985984    35831808   429981696   864813056  1787822080   -20971520]]\n"
     ]
    }
   ],
   "source": [
    "def vandermonde(N):\n",
    "    vec=np.arange(N)+1\n",
    "    vander=vec.reshape(N,1)\n",
    "    vander=vander**np.arange(N)\n",
    "    return vander\n",
    "vander=vandermonde(12)\n",
    "print(vander)"
   ]
  },
  {
   "cell_type": "code",
   "execution_count": 20,
   "metadata": {},
   "outputs": [
    {
     "data": {
      "text/plain": [
       "array([1., 1., 1., 1., 1., 1., 1., 1., 1., 1., 1., 1.])"
      ]
     },
     "execution_count": 20,
     "metadata": {},
     "output_type": "execute_result"
    }
   ],
   "source": [
    "x=np.ones(12)\n",
    "x"
   ]
  },
  {
   "cell_type": "code",
   "execution_count": 21,
   "metadata": {},
   "outputs": [
    {
     "data": {
      "text/plain": [
       "array([1.20000000e+01, 4.09500000e+03, 2.65720000e+05, 5.59240500e+06,\n",
       "       6.10351560e+07, 4.35356467e+08, 2.30688120e+09, 1.22713351e+09,\n",
       "       9.43953692e+08, 3.73692871e+09, 3.10225064e+08, 3.10073456e+09])"
      ]
     },
     "execution_count": 21,
     "metadata": {},
     "output_type": "execute_result"
    }
   ],
   "source": [
    "b=np.dot(vander,x)\n",
    "b"
   ]
  },
  {
   "cell_type": "code",
   "execution_count": 22,
   "metadata": {},
   "outputs": [
    {
     "name": "stdout",
     "output_type": "stream",
     "text": [
      "[0.99559784 1.00491714 0.99946976 1.00000954 1.         0.99999917\n",
      " 1.00000018 0.99999999 1.         1.         1.         1.        ]\n"
     ]
    }
   ],
   "source": [
    "inv_v=np.linalg.inv(vander)\n",
    "res=np.dot(inv_v,b)\n",
    "print(res)"
   ]
  },
  {
   "cell_type": "markdown",
   "metadata": {},
   "source": [
    "#### The expected result was a vector having 12 ones, but in actual result some of the values are not exactly 1."
   ]
  },
  {
   "cell_type": "code",
   "execution_count": 23,
   "metadata": {},
   "outputs": [
    {
     "name": "stdout",
     "output_type": "stream",
     "text": [
      "[1.0000114  0.99997033 1.00002961 0.99998507 1.00000423 0.9999993\n",
      " 1.00000007 1.         1.         1.         1.         1.        ]\n"
     ]
    }
   ],
   "source": [
    "res2=np.linalg.solve(vander,b)\n",
    "print(res2)\n"
   ]
  },
  {
   "cell_type": "markdown",
   "metadata": {},
   "source": [
    "#### The result is more closer to the actual result."
   ]
  },
  {
   "cell_type": "markdown",
   "metadata": {},
   "source": [
    "### Github Link : <a href=\"https://github.com/Riddhick/Riddhick_Dalal_24-27-14\">Github</a>\n",
    "\n",
    "#### [https://github.com/Riddhick/Riddhick_Dalal_24-27-14]"
   ]
  }
 ],
 "metadata": {
  "kernelspec": {
   "display_name": "Python 3",
   "language": "python",
   "name": "python3"
  },
  "language_info": {
   "codemirror_mode": {
    "name": "ipython",
    "version": 3
   },
   "file_extension": ".py",
   "mimetype": "text/x-python",
   "name": "python",
   "nbconvert_exporter": "python",
   "pygments_lexer": "ipython3",
   "version": "3.9.5"
  }
 },
 "nbformat": 4,
 "nbformat_minor": 2
}
