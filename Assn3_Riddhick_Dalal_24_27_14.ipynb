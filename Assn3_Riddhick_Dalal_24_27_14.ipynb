{
 "cells": [
  {
   "cell_type": "markdown",
   "metadata": {},
   "source": [
    "### Name : Riddhick Dalal\n",
    "### Reg No : 24-27-14\n",
    "### Course : MTech Data Science\n",
    "### Assignment 3"
   ]
  },
  {
   "cell_type": "code",
   "execution_count": 15,
   "metadata": {},
   "outputs": [],
   "source": [
    "import numpy as np\n",
    "import matplotlib.pyplot as plt"
   ]
  },
  {
   "cell_type": "markdown",
   "metadata": {},
   "source": [
    "### Q1. Linear Regression"
   ]
  },
  {
   "cell_type": "code",
   "execution_count": 16,
   "metadata": {},
   "outputs": [],
   "source": [
    "def linear(X,Y): #function to calculate theta values \n",
    "    X=X.reshape(X.shape[0],1)\n",
    "    Y=Y.reshape(Y.shape[0],1)\n",
    "    ones=np.ones(X.shape[0]).reshape(X.shape[0],1)\n",
    "    X=np.append(ones,X,axis=1)\n",
    "    xTranspose=X.T\n",
    "    X_t_X=np.matmul(xTranspose,X)\n",
    "    if(np.linalg.det(X_t_X)==0):\n",
    "        X_inv=np.linalg.pinv(X_t_X)\n",
    "    else:\n",
    "        X_inv=np.linalg.inv(X_t_X)\n",
    "    temp=np.matmul(X_inv,xTranspose)\n",
    "    thetas=np.matmul(temp,Y)\n",
    "    thetas=thetas\n",
    "    return thetas"
   ]
  },
  {
   "cell_type": "code",
   "execution_count": 17,
   "metadata": {},
   "outputs": [],
   "source": [
    "def predict(thetas,x): #function to predict value for given x\n",
    "    x=x.reshape(x.shape[0],1)\n",
    "    ones=np.ones(x.shape[0]).reshape(x.shape[0],1)\n",
    "    x=np.append(ones,x,axis=1)\n",
    "    values=np.matmul(x,thetas)\n",
    "    return values"
   ]
  },
  {
   "cell_type": "code",
   "execution_count": 18,
   "metadata": {},
   "outputs": [
    {
     "name": "stdout",
     "output_type": "stream",
     "text": [
      "[[-16.68286767]\n",
      " [ 13.1414623 ]]\n"
     ]
    }
   ],
   "source": [
    "x = np.random.rand(100, 1) * 10  # Random x values in range [0, 10]\n",
    "y = 2 + 3 * x + x**2 + np.random.randn(100, 1) * 10 \n",
    "thetas_linear=linear(x,y)\n",
    "print(linear(x,y))"
   ]
  },
  {
   "cell_type": "code",
   "execution_count": 19,
   "metadata": {},
   "outputs": [],
   "source": [
    "y_predicted=predict(thetas_linear,x)"
   ]
  },
  {
   "cell_type": "code",
   "execution_count": 20,
   "metadata": {},
   "outputs": [
    {
     "data": {
      "image/png": "[encoded data removed]",
      "text/plain": [
       "<Figure size 432x288 with 1 Axes>"
      ]
     },
     "metadata": {
      "needs_background": "light"
     },
     "output_type": "display_data"
    }
   ],
   "source": [
    "plt.scatter(x,y)\n",
    "plt.scatter(x,y_predicted)\n",
    "plt.show()"
   ]
  },
  {
   "cell_type": "markdown",
   "metadata": {},
   "source": [
    "### Q2.Polynomial Regression"
   ]
  },
  {
   "cell_type": "code",
   "execution_count": 21,
   "metadata": {},
   "outputs": [],
   "source": [
    "def polynomial(X,Y,degree):\n",
    "    X=X.reshape(X.shape[0],1)\n",
    "    ones=np.ones(X.shape[0]).reshape(X.shape[0],1)\n",
    "    X=np.append(ones,X,axis=1)\n",
    "    X=np.repeat(X,[1,degree],axis=1) #Creation of polynomial matrix of X based on the degree.\n",
    "    Y=Y.reshape(Y.shape[0],1)\n",
    "    X=X**np.arange(0,X.shape[1])\n",
    "    xTranspose=X.T\n",
    "    X_t_X=np.matmul(xTranspose,X)\n",
    "    if(np.linalg.det(X_t_X)==0):  #if determinant =0 we calculate pseudo inverse instead of inverse\n",
    "        X_inv=np.linalg.pinv(X_t_X)\n",
    "    else:\n",
    "        X_inv=np.linalg.inv(X_t_X)\n",
    "    temp=np.matmul(X_inv,xTranspose)\n",
    "    thetas=np.matmul(temp,Y)\n",
    "    thetas=thetas\n",
    "    return thetas  \n"
   ]
  },
  {
   "cell_type": "code",
   "execution_count": 22,
   "metadata": {},
   "outputs": [],
   "source": [
    "def poly_predict(x,thetas):\n",
    "    degree=thetas.shape[0]-1\n",
    "    x=x.reshape(x.shape[0],1)\n",
    "    ones=np.ones(x.shape[0]).reshape(x.shape[0],1)\n",
    "    x=np.append(ones,x,axis=1)\n",
    "    x=np.repeat(x,[1,degree],axis=1)\n",
    "    x=x**np.arange(0,x.shape[1])\n",
    "    values=np.matmul(x,thetas)\n",
    "    return values"
   ]
  },
  {
   "cell_type": "code",
   "execution_count": 23,
   "metadata": {},
   "outputs": [],
   "source": [
    "thetas=polynomial(x,y,2)"
   ]
  },
  {
   "cell_type": "code",
   "execution_count": 24,
   "metadata": {},
   "outputs": [],
   "source": [
    "y_pred2=poly_predict(x,thetas)"
   ]
  },
  {
   "cell_type": "code",
   "execution_count": 25,
   "metadata": {},
   "outputs": [
    {
     "name": "stdout",
     "output_type": "stream",
     "text": [
      "[[ 59.53575542]\n",
      " [  6.10482803]\n",
      " [101.76492227]\n",
      " [ 26.13878127]\n",
      " [ 43.92852417]\n",
      " [ 21.76201666]\n",
      " [109.15566136]\n",
      " [ 88.11929229]\n",
      " [ 18.20055373]\n",
      " [ 15.81755674]\n",
      " [ 78.68633275]\n",
      " [ 72.84738821]\n",
      " [112.80131705]\n",
      " [  7.08190124]\n",
      " [115.60027927]\n",
      " [ 55.66932069]\n",
      " [ 47.12225177]\n",
      " [ 21.87400058]\n",
      " [  7.97135801]\n",
      " [  7.97712429]\n",
      " [  3.58827813]\n",
      " [101.57305625]\n",
      " [ 56.84663918]\n",
      " [ 75.57027719]\n",
      " [  0.30447026]\n",
      " [ 73.81225957]\n",
      " [ 97.52490668]\n",
      " [ 28.21326906]\n",
      " [ 28.87788181]\n",
      " [ 63.34403008]\n",
      " [114.76109337]\n",
      " [ 55.16822996]\n",
      " [115.60652881]\n",
      " [ -0.17761222]\n",
      " [  6.85822398]\n",
      " [  3.46724874]\n",
      " [ 64.23183867]\n",
      " [ 35.83778852]\n",
      " [111.25924435]\n",
      " [ 52.57199206]\n",
      " [ -0.47964075]\n",
      " [ 22.77778783]\n",
      " [ 19.63880492]\n",
      " [ 58.54481611]\n",
      " [ 28.12131148]\n",
      " [  1.25761104]\n",
      " [ 10.44824933]\n",
      " [ 55.10590706]\n",
      " [  6.75750382]\n",
      " [ 86.57602573]\n",
      " [ 72.08243801]\n",
      " [ 74.9395094 ]\n",
      " [105.42577794]\n",
      " [116.07335456]\n",
      " [123.59656138]\n",
      " [ 42.0241677 ]\n",
      " [ -1.03756731]\n",
      " [103.43280961]\n",
      " [ 82.61602574]\n",
      " [ 59.83279883]\n",
      " [ 44.83346548]\n",
      " [ 71.83026888]\n",
      " [ 26.86954098]\n",
      " [ 27.85420299]\n",
      " [ 18.90300428]\n",
      " [ 86.71633713]\n",
      " [ 52.02365388]\n",
      " [  0.96110929]\n",
      " [ 11.568941  ]\n",
      " [ -1.3708178 ]\n",
      " [ 71.36473196]\n",
      " [ 55.51897487]\n",
      " [ 76.3029234 ]\n",
      " [  3.50340276]\n",
      " [ 20.61525455]\n",
      " [ 78.42402956]\n",
      " [ 97.41677045]\n",
      " [ 56.9867424 ]\n",
      " [ 20.72139532]\n",
      " [  5.20079424]\n",
      " [ 21.96736623]\n",
      " [ 64.89332904]\n",
      " [  4.78032578]\n",
      " [ 38.20272266]\n",
      " [ 19.93672371]\n",
      " [  1.28096513]\n",
      " [ 52.742487  ]\n",
      " [ 44.00139897]\n",
      " [ 52.65658511]\n",
      " [ 37.87210537]\n",
      " [  4.47885638]\n",
      " [108.30532966]\n",
      " [101.33922754]\n",
      " [ 35.47816273]\n",
      " [ 13.01637643]\n",
      " [ -1.39463636]\n",
      " [ 16.82884604]\n",
      " [120.17442518]\n",
      " [ 47.14315115]\n",
      " [ 73.54048546]]\n"
     ]
    }
   ],
   "source": [
    "print(y_pred2)"
   ]
  },
  {
   "cell_type": "code",
   "execution_count": 26,
   "metadata": {},
   "outputs": [
    {
     "data": {
      "image/png": "[encoded data removed]",
      "text/plain": [
       "<Figure size 432x288 with 1 Axes>"
      ]
     },
     "metadata": {
      "needs_background": "light"
     },
     "output_type": "display_data"
    }
   ],
   "source": [
    "plt.scatter(x,y,color='yellow',label=\"Actual Data Points\")\n",
    "plt.plot(x,y_predicted,label=\"Linear Prediction\")\n",
    "plt.plot(np.sort(x, axis=0), np.sort(y_pred2, axis=0),color=\"red\",label=\"Polynomial Prediction\")\n",
    "plt.legend()\n",
    "plt.show()"
   ]
  },
  {
   "cell_type": "markdown",
   "metadata": {},
   "source": [
    "### 3. Outlier Detection and Removal\n"
   ]
  },
  {
   "cell_type": "code",
   "execution_count": 31,
   "metadata": {},
   "outputs": [
    {
     "name": "stdout",
     "output_type": "stream",
     "text": [
      "Theta Values with Outliers:\n",
      "[[-285.15]\n",
      " [ 118.35]]\n",
      "Value for predicted Y for same X values while the input data had outliers:\n",
      "[[-166.8 ]\n",
      " [ -48.45]\n",
      " [  69.9 ]\n",
      " [ 188.25]\n",
      " [ 306.6 ]\n",
      " [ 424.95]]\n"
     ]
    }
   ],
   "source": [
    "x1=np.array([1,2,3,4,5,6])\n",
    "y1=np.array([-234,5,7,10,974,12.45])\n",
    "\n",
    "with_outlierTheta=linear(x1,y1)\n",
    "print('Theta Values with Outliers:')\n",
    "print(with_outlierTheta)\n",
    "\n",
    "print('Value for predicted Y for same X values while the input data had outliers:')\n",
    "print(predict(with_outlierTheta,x1))"
   ]
  },
  {
   "cell_type": "markdown",
   "metadata": {},
   "source": [
    "### So there is visible difference between the actual values and predicted values. Thus we can access the effects of outliers."
   ]
  },
  {
   "cell_type": "markdown",
   "metadata": {},
   "source": [
    "#### We will use Inter Quartile Range to detect and remove outlier. Where any point having value < Q1-1.5xIQR and value > Q3+1.5xIQR will be treated as outlier. Here Q1 is 25th percentile and Q3 is 75th percentile and the value of IQR is calculated using Q3-Q1. "
   ]
  },
  {
   "cell_type": "code",
   "execution_count": 33,
   "metadata": {},
   "outputs": [],
   "source": [
    "\n",
    "\n",
    "q1=np.quantile(y1,.25)\n",
    "q3=np.quantile(y1,.75)\n",
    "iqr=q3-q1\n",
    "lower_limit=q1-1.5*iqr\n",
    "upper_limit=q3+1.5*iqr\n",
    "index=[]\n",
    "for i in range(len(y1)):\n",
    "    if(y1[i]<lower_limit or y1[i]>upper_limit):\n",
    "        index.append(i)"
   ]
  },
  {
   "cell_type": "code",
   "execution_count": 34,
   "metadata": {},
   "outputs": [
    {
     "name": "stdout",
     "output_type": "stream",
     "text": [
      "Values without outliers->\n",
      "x values : [2 3 4 6]\n",
      "y values :[ 5.    7.   10.   12.45]\n"
     ]
    }
   ],
   "source": [
    "x1=np.delete(x1,index)\n",
    "y1=np.delete(y1,index)\n",
    "print('Values without outliers->')\n",
    "print('x values : ',end='')\n",
    "print(x1)\n",
    "print('y values :',end='')\n",
    "print(y1)"
   ]
  },
  {
   "cell_type": "code",
   "execution_count": 35,
   "metadata": {},
   "outputs": [
    {
     "name": "stdout",
     "output_type": "stream",
     "text": [
      "Theta Values with Outliers:\n",
      "[[1.53571429]\n",
      " [1.88714286]]\n",
      "Value for predicted Y for same X values while the input data had outliers:\n",
      "[[ 5.31      ]\n",
      " [ 7.19714286]\n",
      " [ 9.08428571]\n",
      " [12.85857143]]\n"
     ]
    }
   ],
   "source": [
    "without_outlierTheta=linear(x1,y1)\n",
    "print('Theta Values with Outliers:')\n",
    "print(without_outlierTheta)\n",
    "\n",
    "print('Value for predicted Y for same X values while the input data had outliers:')\n",
    "print(predict(without_outlierTheta,x1))"
   ]
  },
  {
   "cell_type": "markdown",
   "metadata": {},
   "source": [
    "### Now the predicted y values are much closer to the actual y values"
   ]
  }
 ],
 "metadata": {
  "kernelspec": {
   "display_name": "Python 3",
   "language": "python",
   "name": "python3"
  },
  "language_info": {
   "codemirror_mode": {
    "name": "ipython",
    "version": 3
   },
   "file_extension": ".py",
   "mimetype": "text/x-python",
   "name": "python",
   "nbconvert_exporter": "python",
   "pygments_lexer": "ipython3",
   "version": "3.9.5"
  }
 },
 "nbformat": 4,
 "nbformat_minor": 2
}
