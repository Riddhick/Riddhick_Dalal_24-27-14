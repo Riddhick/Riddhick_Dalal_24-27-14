{
 "cells": [
  {
   "cell_type": "code",
   "execution_count": 1,
   "metadata": {},
   "outputs": [],
   "source": [
    "import numpy as np\n",
    "import matplotlib.pyplot as plt"
   ]
  },
  {
   "cell_type": "code",
   "execution_count": 2,
   "metadata": {},
   "outputs": [],
   "source": [
    "def linear(X,Y):\n",
    "    X=X.reshape(X.shape[0],1)\n",
    "    Y=Y.reshape(Y.shape[0],1)\n",
    "    ones=np.ones(X.shape[0]).reshape(X.shape[0],1)\n",
    "    X=np.append(ones,X,axis=1)\n",
    "    xTranspose=X.T\n",
    "    X_t_X=np.matmul(xTranspose,X)\n",
    "    if(np.linalg.det(X_t_X)==0):\n",
    "        X_inv=np.linalg.pinv(X_t_X)\n",
    "    else:\n",
    "        X_inv=np.linalg.inv(X_t_X)\n",
    "    temp=np.matmul(X_inv,xTranspose)\n",
    "    thetas=np.matmul(temp,Y)\n",
    "    thetas=thetas\n",
    "    return thetas"
   ]
  },
  {
   "cell_type": "code",
   "execution_count": null,
   "metadata": {},
   "outputs": [],
   "source": [
    "def predict(thetas,x):\n",
    "    x=x.reshape(x.shape[0],1)\n",
    "    ones=np.ones(x.shape[0]).reshape(x.shape[0],1)\n",
    "    x=np.append(ones,x,axis=1)\n",
    "    values=np.matmul(x,thetas)\n",
    "    return values"
   ]
  },
  {
   "cell_type": "code",
   "execution_count": 3,
   "metadata": {},
   "outputs": [
    {
     "name": "stdout",
     "output_type": "stream",
     "text": [
      "[[1.5 ]\n",
      " [0.95]]\n"
     ]
    }
   ],
   "source": [
    "x=np.array([2,4,6,8])\n",
    "y=np.array([3,7,5,10])\n",
    "print(linear(x,y))"
   ]
  }
 ],
 "metadata": {
  "kernelspec": {
   "display_name": "Python 3",
   "language": "python",
   "name": "python3"
  },
  "language_info": {
   "codemirror_mode": {
    "name": "ipython",
    "version": 3
   },
   "file_extension": ".py",
   "mimetype": "text/x-python",
   "name": "python",
   "nbconvert_exporter": "python",
   "pygments_lexer": "ipython3",
   "version": "3.9.5"
  }
 },
 "nbformat": 4,
 "nbformat_minor": 2
}
